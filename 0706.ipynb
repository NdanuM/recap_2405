{
 "cells": [
  {
   "cell_type": "code",
   "execution_count": null,
   "metadata": {},
   "outputs": [],
   "source": [
    "#Question: How can you resize an image named image.jpg to a target width and height using NumPy?\n",
    "from PIL import Image\n",
    "# Load the image using PIL\n",
    "image = Image.open(\"image.jpg\")\n",
    "# Convert the image to a NumPy array\n",
    "image_array = np.array(image)\n",
    "# Define the target width and height\n",
    "target_width = 800\n",
    "target_height = 600\n",
    "# Resize the image array using numpy.resize()\n",
    "resized_array = np.resize(image_array, (target_height, target_width, 3))  # Assuming RGB image (3 channels)\n",
    "# Convert the resized array back to an image\n",
    "resized_image = Image.fromarray(resized_array)\n",
    "# Save the resized image\n",
    "resized_image.save(\"resized_image.jpg\") (edited) "
   ]
  }
 ],
 "metadata": {
  "kernelspec": {
   "display_name": "Python 3",
   "language": "python",
   "name": "python3"
  },
  "language_info": {
   "codemirror_mode": {
    "name": "ipython",
    "version": 3
   },
   "file_extension": ".py",
   "mimetype": "text/x-python",
   "name": "python",
   "nbconvert_exporter": "python",
   "pygments_lexer": "ipython3",
   "version": "3.8.5"
  }
 },
 "nbformat": 4,
 "nbformat_minor": 2
}
